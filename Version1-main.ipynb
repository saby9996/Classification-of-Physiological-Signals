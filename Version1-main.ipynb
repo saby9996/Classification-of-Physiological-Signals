{
 "cells": [
  {
   "cell_type": "code",
   "execution_count": 79,
   "metadata": {},
   "outputs": [],
   "source": [
    "from sklearn import model_selection, svm\n",
    "from sklearn.cluster import KMeans\n",
    "from sklearn.ensemble import RandomForestClassifier, RandomForestRegressor\n",
    "from sklearn import metrics\n",
    "from sklearn.metrics import classification_report, average_precision_score, mean_squared_error\n",
    "from sklearn.metrics import confusion_matrix\n",
    "from sklearn.metrics import precision_recall_curve\n",
    "from sklearn.metrics import accuracy_score\n",
    "#from sklearn.cross_validation import cross_val_score\n",
    "from sklearn.linear_model import LogisticRegression\n",
    "from sklearn.linear_model import LinearRegression\n",
    "from sklearn.multiclass import OneVsRestClassifier\n",
    "from sklearn.neural_network import MLPClassifier\n",
    "from sklearn.preprocessing import label_binarize\n",
    "from sklearn.tree import DecisionTreeClassifier\n",
    "from sklearn.neighbors import KNeighborsClassifier\n",
    "from sklearn.discriminant_analysis import LinearDiscriminantAnalysis\n",
    "from sklearn.naive_bayes import GaussianNB\n",
    "from sklearn.naive_bayes import MultinomialNB\n",
    "from sklearn.svm import SVC\n",
    "from sklearn.metrics import r2_score\n",
    "from sklearn.ensemble import AdaBoostRegressor\n",
    "from sklearn.ensemble import GradientBoostingClassifier\n",
    "from sklearn.ensemble import VotingClassifier\n",
    "from sklearn.neural_network import MLPRegressor\n",
    "from sklearn.model_selection import StratifiedKFold\n",
    "from sklearn.model_selection import train_test_split\n",
    "from sklearn import linear_model\n",
    "from sklearn.metrics import mean_absolute_error\n",
    "from sklearn.metrics import roc_curve, roc_auc_score\n",
    "\n",
    "import keras\n",
    "from keras.utils import to_categorical\n",
    "from keras.models import Sequential\n",
    "from keras.layers import Dense\n",
    "from keras.layers import Dropout\n",
    "from keras.utils import to_categorical\n",
    "from keras.layers import Conv2D\n",
    "from keras.layers import Conv1D\n",
    "from keras.layers import MaxPooling2D\n",
    "from keras.layers import Flatten\n",
    "from keras import optimizers\n",
    "from keras.layers import Conv1D\n",
    "import numpy as np\n",
    "import pandas as pd\n",
    "import scipy\n",
    "import sklearn\n",
    "import os\n",
    "from keras.optimizers import SGD #Stochastic Gradient Descent Optimizer\n"
   ]
  },
  {
   "cell_type": "code",
   "execution_count": 2,
   "metadata": {},
   "outputs": [],
   "source": [
    "import warnings\n",
    "warnings.filterwarnings('ignore')"
   ]
  },
  {
   "cell_type": "markdown",
   "metadata": {},
   "source": [
    "### Data Extraction and Preparation for Chest Data and Wrist Data"
   ]
  },
  {
   "cell_type": "raw",
   "metadata": {},
   "source": [
    "#Path to the Pickle Files\n",
    "path_to_pkl = 'E:/WESAD/Combo/'\n",
    "pkl_files=[pos_pkl for pos_pkl in os.listdir(path_to_pkl) if pos_pkl.endswith('.pkl')]"
   ]
  },
  {
   "cell_type": "raw",
   "metadata": {},
   "source": [
    "tx%%time\n",
    "main_data=pd.DataFrame()\n",
    "#Hole Data or Required Data Extraction\n",
    "for index in pkl_files:\n",
    "    pkl_file=os.path.join(path_to_pkl,index)\n",
    "    pkl_data=pickle.load(open(pkl_file,'rb'),encoding='latin1')\n",
    "    gross_samp_rate=len(pkl_data['label'])\n",
    "    mini=pd.DataFrame()\n",
    "    #Chest\n",
    "    mini['ECG']=pkl_data['signal']['chest']['ECG'][:,0]\n",
    "    mini['EMG']=pkl_data['signal']['chest']['EMG'][:,0]\n",
    "    mini['RESP']=pkl_data['signal']['chest']['Resp'][:,0]\n",
    "    #mini['TEMP']=pkl_data['signal']['chest']['Temp'][:,0]\n",
    "    #Wrist\n",
    "    acc_x=pkl_data['signal']['wrist']['ACC'][:,0] \n",
    "    mini['Wrist_ACC_X']=scipy.signal.resample(acc_x,gross_samp_rate) \n",
    "    acc_y=pkl_data['signal']['wrist']['ACC'][:,1]\n",
    "    mini['Wrist_ACC_Y']=scipy.signal.resample(acc_y,gross_samp_rate)\n",
    "    acc_z=pkl_data['signal']['wrist']['ACC'][:,2]\n",
    "    mini['Wrist_ACC_Z']=scipy.signal.resample(acc_z,gross_samp_rate)\n",
    "    bvp=pkl_data['signal']['wrist']['BVP'][:,0]\n",
    "    mini['BVP']=scipy.signal.resample(bvp,gross_samp_rate) \n",
    "    temp=pkl_data['signal']['wrist']['TEMP'][:,0]\n",
    "    mini['TEMP']=scipy.signal.resample(temp,gross_samp_rate)\n",
    "    mini['SUBJECT']=pkl_data['subject']\n",
    "    mini['Label']=pkl_data['label']\n",
    "    main_data=main_data.append(mini)\n",
    "print(main_data.shape)"
   ]
  },
  {
   "cell_type": "raw",
   "metadata": {},
   "source": [
    "#Removing Labels 5,6 and 7\n",
    "main_data=main_data[(main_data['Label']!=5) & (main_data['Label']!=6) & (main_data['Label']!=7)]\n",
    "print(main_data.shape)"
   ]
  },
  {
   "cell_type": "raw",
   "metadata": {},
   "source": [
    "%%time\n",
    "main_data.to_csv('SUBJECTS_10_Data.csv',index=False)"
   ]
  },
  {
   "cell_type": "raw",
   "metadata": {},
   "source": [
    "del main_data"
   ]
  },
  {
   "cell_type": "markdown",
   "metadata": {},
   "source": [
    "##### Personal Infromation Extraction of Subjects"
   ]
  },
  {
   "cell_type": "raw",
   "metadata": {},
   "source": [
    "user_data={'age':[27,27,25,35,27,28,27,26,28,26,28,27,28,24,29 ],\n",
    "           'height':[175,173,175,189,170,184,172, 181,178,171,181,180,186,184,165],\n",
    "           'weight':[80,69,90,80,66,74,64,75,76, 54, 82, 80,83,69,55],\n",
    "           'gender':['Male','Male','Male','Male','Male','Male','Female','Male','Male','Female','Male','Male','Male','Male','Female'],\n",
    "           'dominant_hand':['Right','Right','Right','Right','Right','Right','Left','Right','Right','Right','Right','Right','Right','Right','Right'],\n",
    "           'drink_coffee':[0,0,0,1,1,0,1,0,0,1,0,0,0,0,0],\n",
    "           'coffee_last_hour':[0,0,0,0,0,0,0,0,0,0,0,0,0,0,0],\n",
    "           'sports_today':[0,0,0,0,0,1,1,0,0,0,0,0,0,0,0],\n",
    "           'smoker':[0,0,0,0,1,0,0,0,0,0,0,0,0,0,0],\n",
    "           'smoke_last_hour':[0,0,0,0,0,0,0,0,0,0,0,0,0,0,0],\n",
    "           'ill_today':[0,0,0,0,0,0,0,1,0,0,0,0,0,0,0],\n",
    "           'SUBJECT':['S2','S3','S4','S5','S6','S7','S8','S9','S10','S11','S13','S14','S15','S16','S17']\n",
    "          }\n",
    "user_data=pd.DataFrame.from_dict(user_data)\n",
    "user_data.to_csv('User_data.csv')"
   ]
  },
  {
   "cell_type": "markdown",
   "metadata": {},
   "source": [
    "##### Data Ingestion"
   ]
  },
  {
   "cell_type": "code",
   "execution_count": 3,
   "metadata": {},
   "outputs": [
    {
     "name": "stdout",
     "output_type": "stream",
     "text": [
      "(40143599, 11)\n",
      "Wall time: 3min 32s\n"
     ]
    }
   ],
   "source": [
    "%%time\n",
    "main_data=pd.read_csv(r\"SUBJECTS_10_Data.csv\",sep=',',encoding=\"utf-8\",error_bad_lines=False,low_memory = False)\n",
    "print(main_data.shape)"
   ]
  },
  {
   "cell_type": "code",
   "execution_count": 4,
   "metadata": {},
   "outputs": [
    {
     "data": {
      "text/plain": [
       "Index(['ECG', 'EMG', 'RESP', 'Wrist_ACC_X', 'Wrist_ACC_Y', 'Wrist_ACC_Z',\n",
       "       'BVP', 'TEMP', 'EDA', 'SUBJECT', 'Label'],\n",
       "      dtype='object')"
      ]
     },
     "execution_count": 4,
     "metadata": {},
     "output_type": "execute_result"
    }
   ],
   "source": [
    "main_data.columns"
   ]
  },
  {
   "cell_type": "code",
   "execution_count": 5,
   "metadata": {},
   "outputs": [
    {
     "data": {
      "text/html": [
       "<div>\n",
       "<style scoped>\n",
       "    .dataframe tbody tr th:only-of-type {\n",
       "        vertical-align: middle;\n",
       "    }\n",
       "\n",
       "    .dataframe tbody tr th {\n",
       "        vertical-align: top;\n",
       "    }\n",
       "\n",
       "    .dataframe thead th {\n",
       "        text-align: right;\n",
       "    }\n",
       "</style>\n",
       "<table border=\"1\" class=\"dataframe\">\n",
       "  <thead>\n",
       "    <tr style=\"text-align: right;\">\n",
       "      <th></th>\n",
       "      <th>ECG</th>\n",
       "      <th>EMG</th>\n",
       "      <th>RESP</th>\n",
       "      <th>Wrist_ACC_X</th>\n",
       "      <th>Wrist_ACC_Y</th>\n",
       "      <th>Wrist_ACC_Z</th>\n",
       "      <th>BVP</th>\n",
       "      <th>TEMP</th>\n",
       "      <th>EDA</th>\n",
       "      <th>SUBJECT</th>\n",
       "      <th>Label</th>\n",
       "    </tr>\n",
       "  </thead>\n",
       "  <tbody>\n",
       "    <tr>\n",
       "      <th>0</th>\n",
       "      <td>-1.333694</td>\n",
       "      <td>-0.013687</td>\n",
       "      <td>0.213623</td>\n",
       "      <td>107.000000</td>\n",
       "      <td>-105.000000</td>\n",
       "      <td>127.000000</td>\n",
       "      <td>10.170000</td>\n",
       "      <td>33.130000</td>\n",
       "      <td>33.130000</td>\n",
       "      <td>S10</td>\n",
       "      <td>0</td>\n",
       "    </tr>\n",
       "    <tr>\n",
       "      <th>1</th>\n",
       "      <td>-1.327744</td>\n",
       "      <td>-0.021927</td>\n",
       "      <td>0.192261</td>\n",
       "      <td>108.145372</td>\n",
       "      <td>-108.943628</td>\n",
       "      <td>128.813601</td>\n",
       "      <td>6.871406</td>\n",
       "      <td>33.139185</td>\n",
       "      <td>33.139185</td>\n",
       "      <td>S10</td>\n",
       "      <td>0</td>\n",
       "    </tr>\n",
       "    <tr>\n",
       "      <th>2</th>\n",
       "      <td>-1.322067</td>\n",
       "      <td>-0.009018</td>\n",
       "      <td>0.205994</td>\n",
       "      <td>108.994896</td>\n",
       "      <td>-112.307246</td>\n",
       "      <td>130.015426</td>\n",
       "      <td>4.465267</td>\n",
       "      <td>33.148248</td>\n",
       "      <td>33.148248</td>\n",
       "      <td>S10</td>\n",
       "      <td>0</td>\n",
       "    </tr>\n",
       "    <tr>\n",
       "      <th>3</th>\n",
       "      <td>-1.316345</td>\n",
       "      <td>-0.002380</td>\n",
       "      <td>0.193787</td>\n",
       "      <td>109.535636</td>\n",
       "      <td>-115.056203</td>\n",
       "      <td>130.585645</td>\n",
       "      <td>2.954325</td>\n",
       "      <td>33.157187</td>\n",
       "      <td>33.157187</td>\n",
       "      <td>S10</td>\n",
       "      <td>0</td>\n",
       "    </tr>\n",
       "    <tr>\n",
       "      <th>4</th>\n",
       "      <td>-1.310257</td>\n",
       "      <td>0.001053</td>\n",
       "      <td>0.172424</td>\n",
       "      <td>109.757631</td>\n",
       "      <td>-117.161682</td>\n",
       "      <td>130.511258</td>\n",
       "      <td>2.299560</td>\n",
       "      <td>33.166003</td>\n",
       "      <td>33.166003</td>\n",
       "      <td>S10</td>\n",
       "      <td>0</td>\n",
       "    </tr>\n",
       "  </tbody>\n",
       "</table>\n",
       "</div>"
      ],
      "text/plain": [
       "        ECG       EMG      RESP  Wrist_ACC_X  Wrist_ACC_Y  Wrist_ACC_Z  \\\n",
       "0 -1.333694 -0.013687  0.213623   107.000000  -105.000000   127.000000   \n",
       "1 -1.327744 -0.021927  0.192261   108.145372  -108.943628   128.813601   \n",
       "2 -1.322067 -0.009018  0.205994   108.994896  -112.307246   130.015426   \n",
       "3 -1.316345 -0.002380  0.193787   109.535636  -115.056203   130.585645   \n",
       "4 -1.310257  0.001053  0.172424   109.757631  -117.161682   130.511258   \n",
       "\n",
       "         BVP       TEMP        EDA SUBJECT  Label  \n",
       "0  10.170000  33.130000  33.130000     S10      0  \n",
       "1   6.871406  33.139185  33.139185     S10      0  \n",
       "2   4.465267  33.148248  33.148248     S10      0  \n",
       "3   2.954325  33.157187  33.157187     S10      0  \n",
       "4   2.299560  33.166003  33.166003     S10      0  "
      ]
     },
     "execution_count": 5,
     "metadata": {},
     "output_type": "execute_result"
    }
   ],
   "source": [
    "main_data.head(5)"
   ]
  },
  {
   "cell_type": "markdown",
   "metadata": {},
   "source": [
    "#### Preprocessing of The Data"
   ]
  },
  {
   "cell_type": "code",
   "execution_count": 6,
   "metadata": {},
   "outputs": [],
   "source": [
    "#Signing Static Values for the RAW Sensor Data\n",
    "vcc=3\n",
    "chan_bit=65536"
   ]
  },
  {
   "cell_type": "code",
   "execution_count": 7,
   "metadata": {},
   "outputs": [
    {
     "name": "stdout",
     "output_type": "stream",
     "text": [
      "Wall time: 1min 21s\n"
     ]
    }
   ],
   "source": [
    "%%time\n",
    "main_data['ECG']=main_data['ECG'].apply(lambda x: ((x/chan_bit-0.5)*vcc)) #in mV\n",
    "main_data['EMG']=main_data['EMG'].apply(lambda x: ((x/chan_bit-0.5)*vcc)) #in mV\n",
    "main_data['RESP']=main_data['RESP'].apply(lambda x: ((x/chan_bit-0.5)*100)) #in %age\n",
    "main_data['Wrist_ACC_X']=main_data['Wrist_ACC_X'].apply(lambda x: ((x*2*9.8)/128)) #in m/s^2\n",
    "main_data['Wrist_ACC_Y']=main_data['Wrist_ACC_Y'].apply(lambda x: ((x*2*9.8)/128)) #in m/s^2\n",
    "main_data['Wrist_ACC_Z']=main_data['Wrist_ACC_Z'].apply(lambda x: ((x*2*9.8)/128)) #in m/s^2"
   ]
  },
  {
   "cell_type": "code",
   "execution_count": 8,
   "metadata": {},
   "outputs": [],
   "source": [
    "main_data['Sample'] = range(1, len(main_data) + 1)"
   ]
  },
  {
   "cell_type": "markdown",
   "metadata": {},
   "source": [
    "#### Aggregation of Whole Data Set at the Range of 70 Samples"
   ]
  },
  {
   "cell_type": "code",
   "execution_count": 9,
   "metadata": {},
   "outputs": [],
   "source": [
    "num_list=list(main_data['Sample'])\n",
    "grp_freq=[]\n",
    "j=1\n",
    "for i in num_list:\n",
    "    if(i%70==0):\n",
    "        grp_freq.append(j)\n",
    "        j=j+1\n",
    "    else: \n",
    "        grp_freq.append(j)\n",
    "main_data['GROUP_FREQ']=grp_freq"
   ]
  },
  {
   "cell_type": "code",
   "execution_count": 10,
   "metadata": {},
   "outputs": [],
   "source": [
    "import scipy.stats\n",
    "agg_data=main_data.groupby('GROUP_FREQ', as_index=False).agg({\"ECG\": \"mean\",\"EMG\":\"mean\",\"RESP\":\"mean\",\"Wrist_ACC_X\":\"mean\",\"Wrist_ACC_Y\":\"mean\",\"Wrist_ACC_Z\":\"mean\",\"BVP\":\"mean\",\"TEMP\":\"mean\",\"SUBJECT\":lambda x: scipy.stats.mode(x)[0],\"Label\":lambda x: scipy.stats.mode(x)[0]})"
   ]
  },
  {
   "cell_type": "code",
   "execution_count": 11,
   "metadata": {},
   "outputs": [],
   "source": [
    "agg_data['Sample'] = range(1, len(agg_data) + 1)"
   ]
  },
  {
   "cell_type": "code",
   "execution_count": 12,
   "metadata": {},
   "outputs": [
    {
     "data": {
      "text/plain": [
       "0    274790\n",
       "1    117150\n",
       "4     79000\n",
       "2     65450\n",
       "3     37090\n",
       "Name: Label, dtype: int64"
      ]
     },
     "execution_count": 12,
     "metadata": {},
     "output_type": "execute_result"
    }
   ],
   "source": [
    "agg_data['Label'].value_counts()"
   ]
  },
  {
   "cell_type": "code",
   "execution_count": 13,
   "metadata": {},
   "outputs": [],
   "source": [
    "del main_data"
   ]
  },
  {
   "cell_type": "markdown",
   "metadata": {},
   "source": [
    "## Feature Extraction"
   ]
  },
  {
   "cell_type": "markdown",
   "metadata": {},
   "source": [
    "### 1. Accelerometer "
   ]
  },
  {
   "cell_type": "code",
   "execution_count": 14,
   "metadata": {},
   "outputs": [],
   "source": [
    "#Developing a Universal Dictionary\n",
    "sub_id=agg_data['SUBJECT'].unique()"
   ]
  },
  {
   "cell_type": "code",
   "execution_count": 15,
   "metadata": {},
   "outputs": [
    {
     "name": "stdout",
     "output_type": "stream",
     "text": [
      "Wall time: 1.42 s\n"
     ]
    }
   ],
   "source": [
    "%%time\n",
    "#Mean of Accelerometer X Axis\n",
    "val_list=[]\n",
    "for i in sub_id:\n",
    "    val=agg_data[agg_data['SUBJECT']==i]['Wrist_ACC_X'].mean()\n",
    "    val_list.append(val)\n",
    "val_dict=dict(zip(sub_id,val_list))\n",
    "agg_data['Mean_ACC_X']=agg_data['SUBJECT'].map(val_dict)\n",
    "\n",
    "#Mean of Accelerometer Y Axis\n",
    "val_list=[]\n",
    "for i in sub_id:\n",
    "    val=agg_data[agg_data['SUBJECT']==i]['Wrist_ACC_Y'].mean()\n",
    "    val_list.append(val)\n",
    "val_dict=dict(zip(sub_id,val_list))\n",
    "agg_data['Mean_ACC_Y']=agg_data['SUBJECT'].map(val_dict)\n",
    "\n",
    "#Mean of Accelerometer Y Axis\n",
    "val_list=[]\n",
    "for i in sub_id:\n",
    "    val=agg_data[agg_data['SUBJECT']==i]['Wrist_ACC_Z'].mean()\n",
    "    val_list.append(val)\n",
    "val_dict=dict(zip(sub_id,val_list))\n",
    "agg_data['Mean_ACC_Z']=agg_data['SUBJECT'].map(val_dict)\n",
    "    "
   ]
  },
  {
   "cell_type": "code",
   "execution_count": 16,
   "metadata": {},
   "outputs": [
    {
     "name": "stdout",
     "output_type": "stream",
     "text": [
      "Wall time: 1.48 s\n"
     ]
    }
   ],
   "source": [
    "%%time\n",
    "#Standard Deviation For X Axis\n",
    "val_list=[]\n",
    "for i in sub_id:\n",
    "    val=agg_data[agg_data['SUBJECT']==i]['Wrist_ACC_X'].std()\n",
    "    val_list.append(val)\n",
    "val_dict=dict(zip(sub_id,val_list))\n",
    "agg_data['SD_ACC_X']=agg_data['SUBJECT'].map(val_dict)\n",
    "\n",
    "#Standard Deviation Y Axis\n",
    "val_list=[]\n",
    "for i in sub_id:\n",
    "    val=agg_data[agg_data['SUBJECT']==i]['Wrist_ACC_Y'].std()\n",
    "    val_list.append(val)\n",
    "val_dict=dict(zip(sub_id,val_list))\n",
    "agg_data['SD_ACC_Y']=agg_data['SUBJECT'].map(val_dict)\n",
    "\n",
    "#Standard Deviation Z Axis\n",
    "val_list=[]\n",
    "for i in sub_id:\n",
    "    val=agg_data[agg_data['SUBJECT']==i]['Wrist_ACC_Z'].std()\n",
    "    val_list.append(val)\n",
    "val_dict=dict(zip(sub_id,val_list))\n",
    "agg_data['SD_ACC_Z']=agg_data['SUBJECT'].map(val_dict)"
   ]
  },
  {
   "cell_type": "code",
   "execution_count": 17,
   "metadata": {},
   "outputs": [
    {
     "name": "stdout",
     "output_type": "stream",
     "text": [
      "Wall time: 3.23 s\n"
     ]
    }
   ],
   "source": [
    "%%time\n",
    "#Correlation Between X-Y \n",
    "\n",
    "val_list=[]\n",
    "for i in sub_id:\n",
    "    val=agg_data[agg_data['SUBJECT']==i]['Wrist_ACC_X'].corr(agg_data[agg_data['SUBJECT']==i]['Wrist_ACC_Y'])\n",
    "    val_list.append(val)\n",
    "val_dict=dict(zip(sub_id,val_list))\n",
    "agg_data['X_Y_CORR']=agg_data['SUBJECT'].map(val_dict)\n",
    "\n",
    "#Correlation Between Y-Z\n",
    "\n",
    "val_list=[]\n",
    "for i in sub_id:\n",
    "    val=agg_data[agg_data['SUBJECT']==i]['Wrist_ACC_Y'].corr(agg_data[agg_data['SUBJECT']==i]['Wrist_ACC_Z'])\n",
    "    val_list.append(val)\n",
    "val_dict=dict(zip(sub_id,val_list))\n",
    "agg_data['Y_Z_CORR']=agg_data['SUBJECT'].map(val_dict)\n",
    "\n",
    "#Correlation BetweenX-Z\n",
    "\n",
    "val_list=[]\n",
    "for i in sub_id:\n",
    "    val=agg_data[agg_data['SUBJECT']==i]['Wrist_ACC_X'].corr(agg_data[agg_data['SUBJECT']==i]['Wrist_ACC_Z'])\n",
    "    val_list.append(val)\n",
    "val_dict=dict(zip(sub_id,val_list))\n",
    "agg_data['X_Z_CORR']=agg_data['SUBJECT'].map(val_dict)"
   ]
  },
  {
   "cell_type": "code",
   "execution_count": 18,
   "metadata": {},
   "outputs": [
    {
     "name": "stdout",
     "output_type": "stream",
     "text": [
      "Wall time: 1.63 s\n"
     ]
    }
   ],
   "source": [
    "%%time\n",
    "#KURTOSIS OF X \n",
    "\n",
    "val_list=[]\n",
    "for i in sub_id:\n",
    "    val=agg_data[agg_data['SUBJECT']==i]['Wrist_ACC_X'].kurt()\n",
    "    val_list.append(val)\n",
    "val_dict=dict(zip(sub_id,val_list))\n",
    "agg_data['KURT_X']=agg_data['SUBJECT'].map(val_dict)\n",
    "\n",
    "#KURTOSIS OF Y\n",
    "\n",
    "val_list=[]\n",
    "for i in sub_id:\n",
    "    val=agg_data[agg_data['SUBJECT']==i]['Wrist_ACC_Y'].kurt()\n",
    "    val_list.append(val)\n",
    "val_dict=dict(zip(sub_id,val_list))\n",
    "agg_data['KURT_Y']=agg_data['SUBJECT'].map(val_dict)\n",
    "\n",
    "#KURTOSIS OF Z\n",
    "\n",
    "val_list=[]\n",
    "for i in sub_id:\n",
    "    val=agg_data[agg_data['SUBJECT']==i]['Wrist_ACC_Z'].kurt()\n",
    "    val_list.append(val)\n",
    "val_dict=dict(zip(sub_id,val_list))\n",
    "agg_data['KURT_Z']=agg_data['SUBJECT'].map(val_dict)\n"
   ]
  },
  {
   "cell_type": "code",
   "execution_count": 19,
   "metadata": {},
   "outputs": [
    {
     "name": "stdout",
     "output_type": "stream",
     "text": [
      "Wall time: 2.2 s\n"
     ]
    }
   ],
   "source": [
    "%%time\n",
    "#SKEWNESS OF X \n",
    "\n",
    "val_list=[]\n",
    "for i in sub_id:\n",
    "    val=agg_data[agg_data['SUBJECT']==i]['Wrist_ACC_X'].skew()\n",
    "    val_list.append(val)\n",
    "val_dict=dict(zip(sub_id,val_list))\n",
    "agg_data['KURT_X']=agg_data['SUBJECT'].map(val_dict)\n",
    "\n",
    "#SKEWNESS OF Y\n",
    "\n",
    "val_list=[]\n",
    "for i in sub_id:\n",
    "    val=agg_data[agg_data['SUBJECT']==i]['Wrist_ACC_Y'].skew()\n",
    "    val_list.append(val)\n",
    "val_dict=dict(zip(sub_id,val_list))\n",
    "agg_data['KURT_Y']=agg_data['SUBJECT'].map(val_dict)\n",
    "\n",
    "#SKEWNESS OF Z\n",
    "\n",
    "val_list=[]\n",
    "for i in sub_id:\n",
    "    val=agg_data[agg_data['SUBJECT']==i]['Wrist_ACC_Z'].skew()\n",
    "    val_list.append(val)\n",
    "val_dict=dict(zip(sub_id,val_list))\n",
    "agg_data['KURT_Z']=agg_data['SUBJECT'].map(val_dict)"
   ]
  },
  {
   "cell_type": "code",
   "execution_count": 20,
   "metadata": {},
   "outputs": [
    {
     "name": "stdout",
     "output_type": "stream",
     "text": [
      "Wall time: 139 ms\n"
     ]
    }
   ],
   "source": [
    "%%time\n",
    "#FFT\n",
    "from scipy import fftpack\n",
    "agg_data['FFT_X']=pd.DataFrame(data = fftpack.rfft(agg_data.Wrist_ACC_X))\n",
    "agg_data['FFT_Y']=pd.DataFrame(data = fftpack.rfft(agg_data.Wrist_ACC_Y))\n",
    "agg_data['FFT_Z']=pd.DataFrame(data = fftpack.rfft(agg_data.Wrist_ACC_Z))"
   ]
  },
  {
   "cell_type": "code",
   "execution_count": 21,
   "metadata": {},
   "outputs": [],
   "source": [
    "#Crest FActor\n",
    "def crest_factor(axis, n):\n",
    "    axis=axis.reset_index(drop=True)\n",
    "    #print(axis)\n",
    "    sq=axis*axis\n",
    "    sum_sq=sum(sq[i] for i in range(n))\n",
    "    fact=max(axis)/(sum_sq/len(axis)-1)\n",
    "    return fact"
   ]
  },
  {
   "cell_type": "code",
   "execution_count": 22,
   "metadata": {
    "scrolled": true
   },
   "outputs": [
    {
     "name": "stdout",
     "output_type": "stream",
     "text": [
      "Wall time: 16.9 s\n"
     ]
    }
   ],
   "source": [
    "%%time\n",
    "#Crest Factor OF X \n",
    "\n",
    "val_list=[]\n",
    "for i in sub_id:\n",
    "    val=crest_factor(agg_data[agg_data['SUBJECT']==i]['Wrist_ACC_X'], len(agg_data[agg_data['SUBJECT']==i]['Wrist_ACC_X']))\n",
    "    val_list.append(val)\n",
    "val_dict=dict(zip(sub_id,val_list))\n",
    "agg_data['CREST_FACTOR_X']=agg_data['SUBJECT'].map(val_dict)\n",
    "\n",
    "#Crest Factor OF Y\n",
    "\n",
    "val_list=[]\n",
    "for i in sub_id:\n",
    "    val=crest_factor(agg_data[agg_data['SUBJECT']==i]['Wrist_ACC_Y'], len(agg_data[agg_data['SUBJECT']==i]['Wrist_ACC_Y']))\n",
    "    val_list.append(val)\n",
    "val_dict=dict(zip(sub_id,val_list))\n",
    "agg_data['CREST_FACTOR_Y']=agg_data['SUBJECT'].map(val_dict)\n",
    "\n",
    "#Crest Factor OF Z\n",
    "\n",
    "val_list=[]\n",
    "for i in sub_id:\n",
    "    val=crest_factor(agg_data[agg_data['SUBJECT']==i]['Wrist_ACC_Z'], len(agg_data[agg_data['SUBJECT']==i]['Wrist_ACC_Z']))\n",
    "    val_list.append(val)\n",
    "val_dict=dict(zip(sub_id,val_list))\n",
    "agg_data['CREST_FACTOR_Z']=agg_data['SUBJECT'].map(val_dict)"
   ]
  },
  {
   "cell_type": "code",
   "execution_count": 23,
   "metadata": {},
   "outputs": [],
   "source": [
    "import plotly.plotly as py\n",
    "import plotly.graph_objs as go\n",
    "import plotly.figure_factory as ff\n",
    "\n",
    "import numpy as np\n",
    "import pandas as pd\n",
    "import scipy\n",
    "\n",
    "from scipy import signal\n",
    "import peakutils"
   ]
  },
  {
   "cell_type": "code",
   "execution_count": 24,
   "metadata": {},
   "outputs": [],
   "source": [
    "import plotly\n",
    "plotly.tools.set_credentials_file(username='c.sabyasachi99', api_key='y5FSl1jIheriCgKbK3Ff')"
   ]
  },
  {
   "cell_type": "code",
   "execution_count": 25,
   "metadata": {},
   "outputs": [
    {
     "name": "stdout",
     "output_type": "stream",
     "text": [
      "High five! You successfully sent some data to your account on plotly. View your plot in your browser at https://plot.ly/~c.sabyasachi99/0 or inside your plot.ly account where it is named 'wind-raw-data-plot'\n"
     ]
    },
    {
     "data": {
      "text/html": [
       "<iframe id=\"igraph\" scrolling=\"no\" style=\"border:none;\" seamless=\"seamless\" src=\"https://plot.ly/~c.sabyasachi99/0.embed\" height=\"525px\" width=\"100%\"></iframe>"
      ],
      "text/plain": [
       "<plotly.tools.PlotlyDisplay object>"
      ]
     },
     "execution_count": 25,
     "metadata": {},
     "output_type": "execute_result"
    }
   ],
   "source": [
    "trace1 = go.Scatter(\n",
    "    x=list(range(len(list(agg_data['ECG'])))),\n",
    "    y=list(agg_data['ECG']),\n",
    "    mode='lines',\n",
    "    name='X Axis'\n",
    ")\n",
    "\n",
    "layout = go.Layout(\n",
    "    showlegend=True\n",
    ")\n",
    "\n",
    "trace_data = [trace1]\n",
    "fig = go.Figure(data=trace_data, layout=layout)\n",
    "py.iplot(fig, filename='wind-raw-data-plot')"
   ]
  },
  {
   "cell_type": "code",
   "execution_count": 26,
   "metadata": {},
   "outputs": [
    {
     "name": "stdout",
     "output_type": "stream",
     "text": [
      "High five! You successfully sent some data to your account on plotly. View your plot in your browser at https://plot.ly/~c.sabyasachi99/0 or inside your plot.ly account where it is named 'wind-raw-data-plot'\n"
     ]
    },
    {
     "data": {
      "text/html": [
       "<iframe id=\"igraph\" scrolling=\"no\" style=\"border:none;\" seamless=\"seamless\" src=\"https://plot.ly/~c.sabyasachi99/0.embed\" height=\"525px\" width=\"100%\"></iframe>"
      ],
      "text/plain": [
       "<plotly.tools.PlotlyDisplay object>"
      ]
     },
     "execution_count": 26,
     "metadata": {},
     "output_type": "execute_result"
    }
   ],
   "source": [
    "trace1 = go.Scatter(\n",
    "    x=list(range(len(list(agg_data['RESP'])))),\n",
    "    y=list(agg_data['RESP']),\n",
    "    mode='lines',\n",
    "    name='X Axis'\n",
    ")\n",
    "\n",
    "layout = go.Layout(\n",
    "    showlegend=True\n",
    ")\n",
    "\n",
    "trace_data = [trace1]\n",
    "fig = go.Figure(data=trace_data, layout=layout)\n",
    "py.iplot(fig, filename='wind-raw-data-plot')"
   ]
  },
  {
   "cell_type": "code",
   "execution_count": 27,
   "metadata": {},
   "outputs": [
    {
     "name": "stdout",
     "output_type": "stream",
     "text": [
      "High five! You successfully sent some data to your account on plotly. View your plot in your browser at https://plot.ly/~c.sabyasachi99/0 or inside your plot.ly account where it is named 'wind-raw-data-plot'\n"
     ]
    },
    {
     "data": {
      "text/html": [
       "<iframe id=\"igraph\" scrolling=\"no\" style=\"border:none;\" seamless=\"seamless\" src=\"https://plot.ly/~c.sabyasachi99/0.embed\" height=\"525px\" width=\"100%\"></iframe>"
      ],
      "text/plain": [
       "<plotly.tools.PlotlyDisplay object>"
      ]
     },
     "execution_count": 27,
     "metadata": {},
     "output_type": "execute_result"
    }
   ],
   "source": [
    "trace1 = go.Scatter(\n",
    "    x=list(range(len(list(agg_data['CREST_FACTOR_X'])))),\n",
    "    y=list(agg_data['CREST_FACTOR_X']),\n",
    "    mode='lines',\n",
    "    name='X Axis'\n",
    ")\n",
    "\n",
    "layout = go.Layout(\n",
    "    showlegend=True\n",
    ")\n",
    "\n",
    "trace_data = [trace1]\n",
    "fig = go.Figure(data=trace_data, layout=layout)\n",
    "py.iplot(fig, filename='wind-raw-data-plot')"
   ]
  },
  {
   "cell_type": "markdown",
   "metadata": {},
   "source": [
    "### Sample Definition Subject Wise - In Minue and In Second\n",
    "#### Therfore, Every 10 Samples Correspond to a Second and Every 600 Samples Correspond to a minute"
   ]
  },
  {
   "cell_type": "code",
   "execution_count": 28,
   "metadata": {},
   "outputs": [
    {
     "data": {
      "text/plain": [
       "10"
      ]
     },
     "execution_count": 28,
     "metadata": {},
     "output_type": "execute_result"
    }
   ],
   "source": [
    "unique_subjects=agg_data['SUBJECT'].unique().tolist()\n",
    "len(unique_subjects)"
   ]
  },
  {
   "cell_type": "code",
   "execution_count": 29,
   "metadata": {},
   "outputs": [
    {
     "name": "stdout",
     "output_type": "stream",
     "text": [
      "Wall time: 2.66 s\n"
     ]
    }
   ],
   "source": [
    "%%time\n",
    "# Genration For Seconds\n",
    "second_list=[]\n",
    "group_freq_list=[]\n",
    "for sub in unique_subjects:\n",
    "    temp_new = pd.DataFrame()\n",
    "    temp_new = agg_data.loc[agg_data.SUBJECT==sub,]\n",
    "    temp_new = temp_new.reset_index()\n",
    "    temp_new.drop('index', axis=1, inplace=True)\n",
    "    temp_new['Sample'] = range(1, len(temp_new) + 1)\n",
    "    \n",
    "    group_freq_list.extend(list(temp_new['GROUP_FREQ']))\n",
    "    num_list=list(temp_new['Sample'])\n",
    "    grp_freq=[]\n",
    "    j=1\n",
    "    for i in num_list:\n",
    "        if(i%10==0):\n",
    "            grp_freq.append(j)\n",
    "            j=j+1\n",
    "        else: \n",
    "            grp_freq.append(j)\n",
    "    second_list.extend(grp_freq)\n",
    "\n",
    "second_dict=dict(zip(group_freq_list,second_list))\n",
    "agg_data['second']=agg_data['GROUP_FREQ'].map(second_dict)     "
   ]
  },
  {
   "cell_type": "code",
   "execution_count": 30,
   "metadata": {},
   "outputs": [
    {
     "name": "stdout",
     "output_type": "stream",
     "text": [
      "Wall time: 1.71 s\n"
     ]
    }
   ],
   "source": [
    "%%time\n",
    "# Genration For Minute\n",
    "minute_list=[]\n",
    "group_freq_list=[]\n",
    "for sub in unique_subjects:\n",
    "    temp_new = pd.DataFrame()\n",
    "    temp_new = agg_data.loc[agg_data.SUBJECT==sub,]\n",
    "    temp_new = temp_new.reset_index()\n",
    "    temp_new.drop('index', axis=1, inplace=True)\n",
    "    temp_new['Sample'] = range(1, len(temp_new) + 1)\n",
    "    \n",
    "    group_freq_list.extend(list(temp_new['GROUP_FREQ']))\n",
    "    num_list=list(temp_new['Sample'])\n",
    "    grp_freq=[]\n",
    "    j=1\n",
    "    for i in num_list:\n",
    "        if(i%600==0):\n",
    "            grp_freq.append(j)\n",
    "            j=j+1\n",
    "        else: \n",
    "            grp_freq.append(j)\n",
    "    minute_list.extend(grp_freq)\n",
    "\n",
    "minute_dict=dict(zip(group_freq_list,minute_list))\n",
    "agg_data['minute']=agg_data['GROUP_FREQ'].map(minute_dict)"
   ]
  },
  {
   "cell_type": "markdown",
   "metadata": {},
   "source": [
    "### 2. ECG"
   ]
  },
  {
   "cell_type": "code",
   "execution_count": 31,
   "metadata": {},
   "outputs": [
    {
     "data": {
      "text/html": [
       "<iframe id=\"igraph\" scrolling=\"no\" style=\"border:none;\" seamless=\"seamless\" src=\"https://plot.ly/~c.sabyasachi99/8.embed\" height=\"525px\" width=\"100%\"></iframe>"
      ],
      "text/plain": [
       "<plotly.tools.PlotlyDisplay object>"
      ]
     },
     "execution_count": 31,
     "metadata": {},
     "output_type": "execute_result"
    }
   ],
   "source": [
    "trace = go.Scatter(\n",
    "    x = [j for j in range(len(agg_data['ECG'][1:600]))],\n",
    "    y = agg_data['ECG'][1:600],\n",
    "    mode = 'lines'\n",
    ")\n",
    "\n",
    "data = [trace]\n",
    "py.iplot(data, filename='milk-production-plot')"
   ]
  },
  {
   "cell_type": "code",
   "execution_count": 32,
   "metadata": {
    "scrolled": false
   },
   "outputs": [
    {
     "name": "stdout",
     "output_type": "stream",
     "text": [
      "-1.4999907312914729\n"
     ]
    },
    {
     "data": {
      "text/html": [
       "<iframe id=\"igraph\" scrolling=\"no\" style=\"border:none;\" seamless=\"seamless\" src=\"https://plot.ly/~c.sabyasachi99/10.embed\" height=\"525px\" width=\"100%\"></iframe>"
      ],
      "text/plain": [
       "<plotly.tools.PlotlyDisplay object>"
      ]
     },
     "execution_count": 32,
     "metadata": {},
     "output_type": "execute_result"
    }
   ],
   "source": [
    "#####################################\n",
    "time_series=agg_data['ECG'][600:1000]\n",
    "#####################################\n",
    "cb = np.array(time_series)\n",
    "\n",
    "indices = peakutils.indexes(cb, thres=-1.499996, min_dist=3)\n",
    "print(max(cb))\n",
    "trace = go.Scatter(\n",
    "    x=[j for j in range(len(time_series))],\n",
    "    y=time_series,\n",
    "    mode='lines',\n",
    "    name='Original Plot'\n",
    ")\n",
    "\n",
    "trace2 = go.Scatter(\n",
    "    x=indices,\n",
    "    y=[np.array(time_series)[j] for j in indices],\n",
    "    mode='markers',\n",
    "    marker=dict(\n",
    "        size=8,\n",
    "        color='rgb(255,0,0)',\n",
    "        symbol='cross'\n",
    "    ),\n",
    "    name='Detected Peaks'\n",
    ")\n",
    "\n",
    "data = [trace, trace2]\n",
    "py.iplot(data, filename='milk-production-plot-with-peaks')"
   ]
  },
  {
   "cell_type": "code",
   "execution_count": 33,
   "metadata": {},
   "outputs": [
    {
     "name": "stdout",
     "output_type": "stream",
     "text": [
      "-1.4999808095428826\n"
     ]
    },
    {
     "data": {
      "text/html": [
       "<iframe id=\"igraph\" scrolling=\"no\" style=\"border:none;\" seamless=\"seamless\" src=\"https://plot.ly/~c.sabyasachi99/10.embed\" height=\"525px\" width=\"100%\"></iframe>"
      ],
      "text/plain": [
       "<plotly.tools.PlotlyDisplay object>"
      ]
     },
     "execution_count": 33,
     "metadata": {},
     "output_type": "execute_result"
    }
   ],
   "source": [
    "#Resting Motion\n",
    "#####################################\n",
    "time_series=agg_data['ECG'][10:20]\n",
    "#####################################\n",
    "cb = np.array(time_series)\n",
    "\n",
    "indices = peakutils.indexes(cb, thres=-1.499995, min_dist=3)\n",
    "print(max(cb))\n",
    "trace = go.Scatter(\n",
    "    x=[j for j in range(len(time_series))],\n",
    "    y=time_series,\n",
    "    mode='lines',\n",
    "    name='Original Plot'\n",
    ")\n",
    "\n",
    "trace2 = go.Scatter(\n",
    "    x=indices,\n",
    "    y=[np.array(time_series)[j] for j in indices],\n",
    "    mode='markers',\n",
    "    marker=dict(\n",
    "        size=8,\n",
    "        color='rgb(255,0,0)',\n",
    "        symbol='cross'\n",
    "    ),\n",
    "    name='Detected Peaks'\n",
    ")\n",
    "\n",
    "data = [trace, trace2]\n",
    "py.iplot(data, filename='milk-production-plot-with-peaks')"
   ]
  },
  {
   "cell_type": "code",
   "execution_count": 34,
   "metadata": {},
   "outputs": [
    {
     "data": {
      "text/plain": [
       "Index(['GROUP_FREQ', 'BVP', 'SUBJECT', 'TEMP', 'Wrist_ACC_X', 'Wrist_ACC_Y',\n",
       "       'Wrist_ACC_Z', 'Label', 'RESP', 'EMG', 'ECG', 'Sample', 'Mean_ACC_X',\n",
       "       'Mean_ACC_Y', 'Mean_ACC_Z', 'SD_ACC_X', 'SD_ACC_Y', 'SD_ACC_Z',\n",
       "       'X_Y_CORR', 'Y_Z_CORR', 'X_Z_CORR', 'KURT_X', 'KURT_Y', 'KURT_Z',\n",
       "       'FFT_X', 'FFT_Y', 'FFT_Z', 'CREST_FACTOR_X', 'CREST_FACTOR_Y',\n",
       "       'CREST_FACTOR_Z', 'second', 'minute'],\n",
       "      dtype='object')"
      ]
     },
     "execution_count": 34,
     "metadata": {},
     "output_type": "execute_result"
    }
   ],
   "source": [
    "agg_data.columns"
   ]
  },
  {
   "cell_type": "markdown",
   "metadata": {},
   "source": [
    "#### Number of Peaks In A Minute [Above Threshold]"
   ]
  },
  {
   "cell_type": "code",
   "execution_count": 35,
   "metadata": {},
   "outputs": [
    {
     "data": {
      "text/plain": [
       "10"
      ]
     },
     "execution_count": 35,
     "metadata": {},
     "output_type": "execute_result"
    }
   ],
   "source": [
    "unique_subjects=agg_data['SUBJECT'].unique().tolist()\n",
    "len(unique_subjects)"
   ]
  },
  {
   "cell_type": "code",
   "execution_count": 36,
   "metadata": {},
   "outputs": [
    {
     "name": "stdout",
     "output_type": "stream",
     "text": [
      "Wall time: 3.4 s\n"
     ]
    }
   ],
   "source": [
    "%%time\n",
    "sub_list=[]\n",
    "mini_list=[]\n",
    "peak_list=[]\n",
    "\n",
    "for sub in unique_subjects:\n",
    "    temp_new = pd.DataFrame()\n",
    "    temp_new = agg_data.loc[agg_data.SUBJECT==sub,]\n",
    "    temp_new = temp_new.reset_index()\n",
    "    temp_new.drop('index', axis=1, inplace=True)\n",
    "    \n",
    "    sub_list.extend(list(temp_new['SUBJECT']))\n",
    "    \n",
    "    mini=temp_new['minute'].unique().tolist()\n",
    "    for i in mini:\n",
    "        hemp_new=pd.DataFrame()\n",
    "        hemp_new = temp_new.loc[temp_new.minute==i,]\n",
    "        hemp_new.reset_index()\n",
    "        #hemp_new.drop('index', axis=1, inplace=True)\n",
    "        cb = np.array(hemp_new['ECG'])\n",
    "        indices = peakutils.indexes(cb, thres=-1.499996, min_dist=3)\n",
    "        hemp_new['ECG_peaks']=len(indices)\n",
    "        \n",
    "        mini_list.extend(list(hemp_new['minute']))\n",
    "        peak_list.extend(list(hemp_new['ECG_peaks'])) \n",
    "minor_data=pd.DataFrame(list(zip(sub_list, mini_list, peak_list)), columns=['SUBJECT_L','minute_L', 'ECG_Peaks'])\n",
    "agg_data=pd.concat([agg_data, minor_data], axis=1)\n",
    "agg_data.drop(['SUBJECT_L','minute_L'], axis=1, inplace=True)"
   ]
  },
  {
   "cell_type": "markdown",
   "metadata": {},
   "source": [
    "#### Average Amplitude of Peaks"
   ]
  },
  {
   "cell_type": "code",
   "execution_count": 37,
   "metadata": {},
   "outputs": [
    {
     "name": "stdout",
     "output_type": "stream",
     "text": [
      "Wall time: 3.19 s\n"
     ]
    }
   ],
   "source": [
    "%%time\n",
    "sub_list=[]\n",
    "mini_list=[]\n",
    "peak_list=[]\n",
    "\n",
    "for sub in unique_subjects:\n",
    "    temp_new = pd.DataFrame()\n",
    "    temp_new = agg_data.loc[agg_data.SUBJECT==sub,]\n",
    "    temp_new = temp_new.reset_index()\n",
    "    temp_new.drop('index', axis=1, inplace=True)\n",
    "    \n",
    "    sub_list.extend(list(temp_new['SUBJECT']))\n",
    "    mini=temp_new['minute'].unique().tolist()\n",
    "    for i in mini:\n",
    "        hemp_new=pd.DataFrame()\n",
    "        hemp_new = temp_new.loc[temp_new.minute==i,]\n",
    "        hemp_new.reset_index(inplace=True)\n",
    "        cb = np.array(hemp_new['ECG'])\n",
    "        indices = peakutils.indexes(cb, thres=-1.499996, min_dist=3)\n",
    "        \n",
    "        meaner=[] #List to Keep Mean\n",
    "        for i in indices:\n",
    "            meaner.append(cb[i])\n",
    "        hemp_new['ECG_Average_Amplitude']=np.mean(meaner)\n",
    "        \n",
    "        mini_list.extend(list(hemp_new['minute']))\n",
    "        peak_list.extend(list(hemp_new['ECG_Average_Amplitude'])) \n",
    "minor_data=pd.DataFrame(list(zip(sub_list, mini_list, peak_list)), columns=['SUBJECT_L','minute_L', 'ECG_Average_Amplitude'])\n",
    "agg_data=pd.concat([agg_data, minor_data], axis=1)\n",
    "agg_data.drop(['SUBJECT_L','minute_L'], axis=1, inplace=True)   "
   ]
  },
  {
   "cell_type": "markdown",
   "metadata": {},
   "source": [
    "#### Peak Difference Mean"
   ]
  },
  {
   "cell_type": "code",
   "execution_count": 38,
   "metadata": {},
   "outputs": [
    {
     "name": "stdout",
     "output_type": "stream",
     "text": [
      "Wall time: 3.32 s\n"
     ]
    }
   ],
   "source": [
    "%%time\n",
    "sub_list=[]\n",
    "mini_list=[]\n",
    "peak_list=[]\n",
    "\n",
    "for sub in unique_subjects:\n",
    "    temp_new = pd.DataFrame()\n",
    "    temp_new = agg_data.loc[agg_data.SUBJECT==sub,]\n",
    "    temp_new = temp_new.reset_index()\n",
    "    temp_new.drop('index', axis=1, inplace=True)\n",
    "    \n",
    "    sub_list.extend(list(temp_new['SUBJECT']))\n",
    "    \n",
    "    mini=temp_new['minute'].unique().tolist()\n",
    "    for i in mini:\n",
    "        hemp_new=pd.DataFrame()\n",
    "        hemp_new = temp_new.loc[temp_new.minute==i,]\n",
    "        hemp_new.reset_index()\n",
    "        #hemp_new.drop('index', axis=1, inplace=True)\n",
    "        cb = np.array(hemp_new['ECG'])\n",
    "        indices = peakutils.indexes(cb, thres=-1.499996, min_dist=3)\n",
    "        \n",
    "        #Fetching Difference Between consecuitive elements\n",
    "        differ=[t - s for s, t in zip(indices, indices[1:])]\n",
    "        hemp_new['ECG_Differ_Mean']=np.mean(differ)\n",
    "        \n",
    "        mini_list.extend(list(hemp_new['minute']))\n",
    "        peak_list.extend(list(hemp_new['ECG_Differ_Mean'])) \n",
    "minor_data=pd.DataFrame(list(zip(sub_list, mini_list, peak_list)), columns=['SUBJECT_L','minute_L', 'ECG_Differ_Mean'])\n",
    "agg_data=pd.concat([agg_data, minor_data], axis=1)\n",
    "agg_data.drop(['SUBJECT_L','minute_L'], axis=1, inplace=True)"
   ]
  },
  {
   "cell_type": "markdown",
   "metadata": {},
   "source": [
    "#### Number of Peaks In A Second [Above Threshold]    ---- Resting Motion"
   ]
  },
  {
   "cell_type": "code",
   "execution_count": 39,
   "metadata": {},
   "outputs": [],
   "source": [
    "sub_list=[]\n",
    "sec_list=[]\n",
    "peak_list=[]\n",
    "\n",
    "for sub in unique_subjects:\n",
    "    temp_new = pd.DataFrame()\n",
    "    temp_new = agg_data.loc[agg_data.SUBJECT==sub,]\n",
    "    temp_new = temp_new.reset_index()\n",
    "    temp_new.drop('index', axis=1, inplace=True)\n",
    "    \n",
    "    sub_list.extend(list(temp_new['SUBJECT']))\n",
    "    \n",
    "    mini=temp_new['second'].unique().tolist()\n",
    "    for i in mini:\n",
    "        hemp_new=pd.DataFrame()\n",
    "        hemp_new = temp_new.loc[temp_new.second==i,]\n",
    "        hemp_new.reset_index()\n",
    "        #hemp_new.drop('index', axis=1, inplace=True)\n",
    "        cb = np.array(hemp_new['ECG'])\n",
    "        indices = peakutils.indexes(cb, thres=-1.499995, min_dist=3)\n",
    "        hemp_new['ECG_Resting']=len(indices)\n",
    "        \n",
    "        sec_list.extend(list(hemp_new['second']))\n",
    "        peak_list.extend(list(hemp_new['ECG_Resting'])) \n",
    "minor_data=pd.DataFrame(list(zip(sub_list, sec_list, peak_list)), columns=['SUBJECT_L','second_L', 'ECG_Resting'])\n",
    "agg_data=pd.concat([agg_data, minor_data], axis=1)\n",
    "agg_data.drop(['SUBJECT_L','second_L'], axis=1, inplace=True)"
   ]
  },
  {
   "cell_type": "markdown",
   "metadata": {},
   "source": [
    "#### Mean of The ECG Signal"
   ]
  },
  {
   "cell_type": "code",
   "execution_count": 40,
   "metadata": {},
   "outputs": [
    {
     "name": "stdout",
     "output_type": "stream",
     "text": [
      "Wall time: 504 ms\n"
     ]
    }
   ],
   "source": [
    "%%time\n",
    "val_list=[]\n",
    "for i in sub_id:\n",
    "    val=agg_data[agg_data['SUBJECT']==i]['ECG'].mean()\n",
    "    val_list.append(val)\n",
    "val_dict=dict(zip(sub_id,val_list))\n",
    "agg_data['Mean_ECG']=agg_data['SUBJECT'].map(val_dict)"
   ]
  },
  {
   "cell_type": "markdown",
   "metadata": {},
   "source": [
    "#### Standard Deviation of The ECG Signal"
   ]
  },
  {
   "cell_type": "code",
   "execution_count": 41,
   "metadata": {},
   "outputs": [
    {
     "name": "stdout",
     "output_type": "stream",
     "text": [
      "Wall time: 656 ms\n"
     ]
    }
   ],
   "source": [
    "%%time\n",
    "val_list=[]\n",
    "for i in sub_id:\n",
    "    val=agg_data[agg_data['SUBJECT']==i]['ECG'].std()\n",
    "    val_list.append(val)\n",
    "val_dict=dict(zip(sub_id,val_list))\n",
    "agg_data['SD_ECG']=agg_data['SUBJECT'].map(val_dict)"
   ]
  },
  {
   "cell_type": "markdown",
   "metadata": {},
   "source": [
    "#### ECG Discrete Fourier Transform"
   ]
  },
  {
   "cell_type": "code",
   "execution_count": 42,
   "metadata": {},
   "outputs": [],
   "source": [
    "agg_data['ECG_FFT']=pd.DataFrame(data = fftpack.rfft(agg_data.ECG))"
   ]
  },
  {
   "cell_type": "code",
   "execution_count": 43,
   "metadata": {},
   "outputs": [],
   "source": [
    "agg_data['ECG_Average_Amplitude'].fillna(0, inplace=True)\n",
    "agg_data['ECG_Differ_Mean'].fillna(0, inplace=True)\n",
    "#agg_data.isnull().sum()"
   ]
  },
  {
   "cell_type": "markdown",
   "metadata": {},
   "source": [
    "### 3. EMG"
   ]
  },
  {
   "cell_type": "code",
   "execution_count": 44,
   "metadata": {},
   "outputs": [
    {
     "name": "stdout",
     "output_type": "stream",
     "text": [
      "The draw time for this plot will be slow for all clients.\n"
     ]
    },
    {
     "data": {
      "text/html": [
       "<iframe id=\"igraph\" scrolling=\"no\" style=\"border:none;\" seamless=\"seamless\" src=\"https://plot.ly/~c.sabyasachi99/8.embed\" height=\"525px\" width=\"100%\"></iframe>"
      ],
      "text/plain": [
       "<plotly.tools.PlotlyDisplay object>"
      ]
     },
     "execution_count": 44,
     "metadata": {},
     "output_type": "execute_result"
    }
   ],
   "source": [
    "trace = go.Scatter(\n",
    "    x = [j for j in range(len(agg_data['EMG']))],\n",
    "    y = agg_data['EMG'],\n",
    "    mode = 'lines'\n",
    ")\n",
    "\n",
    "data = [trace]\n",
    "py.iplot(data, filename='milk-production-plot')"
   ]
  },
  {
   "cell_type": "code",
   "execution_count": 45,
   "metadata": {},
   "outputs": [
    {
     "name": "stdout",
     "output_type": "stream",
     "text": [
      "-1.4999999468048502\n"
     ]
    },
    {
     "data": {
      "text/html": [
       "<iframe id=\"igraph\" scrolling=\"no\" style=\"border:none;\" seamless=\"seamless\" src=\"https://plot.ly/~c.sabyasachi99/10.embed\" height=\"525px\" width=\"100%\"></iframe>"
      ],
      "text/plain": [
       "<plotly.tools.PlotlyDisplay object>"
      ]
     },
     "execution_count": 45,
     "metadata": {},
     "output_type": "execute_result"
    }
   ],
   "source": [
    "#####################################\n",
    "time_series=agg_data['EMG'][0:300]\n",
    "#####################################\n",
    "cb = np.array(time_series)\n",
    "\n",
    "indices = peakutils.indexes(cb, thres=-1.50000008, min_dist=3)\n",
    "print(max(cb))\n",
    "trace = go.Scatter(\n",
    "    x=[j for j in range(len(time_series))],\n",
    "    y=time_series,\n",
    "    mode='lines',\n",
    "    name='Original Plot'\n",
    ")\n",
    "\n",
    "trace2 = go.Scatter(\n",
    "    x=indices,\n",
    "    y=[np.array(time_series)[j] for j in indices],\n",
    "    mode='markers',\n",
    "    marker=dict(\n",
    "        size=8,\n",
    "        color='rgb(255,0,0)',\n",
    "        symbol='cross'\n",
    "    ),\n",
    "    name='Detected Peaks'\n",
    ")\n",
    "\n",
    "data = [trace, trace2]\n",
    "py.iplot(data, filename='milk-production-plot-with-peaks')"
   ]
  },
  {
   "cell_type": "markdown",
   "metadata": {},
   "source": [
    "#### Number of Peaks in a Minute"
   ]
  },
  {
   "cell_type": "code",
   "execution_count": 46,
   "metadata": {},
   "outputs": [
    {
     "name": "stdout",
     "output_type": "stream",
     "text": [
      "Wall time: 3.76 s\n"
     ]
    }
   ],
   "source": [
    "%%time\n",
    "sub_list=[]\n",
    "mini_list=[]\n",
    "peak_list=[]\n",
    "\n",
    "for sub in unique_subjects:\n",
    "    temp_new = pd.DataFrame()\n",
    "    temp_new = agg_data.loc[agg_data.SUBJECT==sub,]\n",
    "    temp_new = temp_new.reset_index()\n",
    "    temp_new.drop('index', axis=1, inplace=True)\n",
    "    \n",
    "    sub_list.extend(list(temp_new['SUBJECT']))\n",
    "    \n",
    "    mini=temp_new['minute'].unique().tolist()\n",
    "    for i in mini:\n",
    "        hemp_new=pd.DataFrame()\n",
    "        hemp_new = temp_new.loc[temp_new.minute==i,]\n",
    "        hemp_new.reset_index()\n",
    "        cb = np.array(hemp_new['EMG'])\n",
    "        indices = peakutils.indexes(cb, thres=-1.50000008, min_dist=3)\n",
    "        hemp_new['EMG_peaks']=len(indices)\n",
    "        \n",
    "        mini_list.extend(list(hemp_new['minute']))\n",
    "        peak_list.extend(list(hemp_new['EMG_peaks'])) \n",
    "minor_data=pd.DataFrame(list(zip(sub_list, mini_list, peak_list)), columns=['SUBJECT_L','minute_L', 'EMG_peaks'])\n",
    "agg_data=pd.concat([agg_data, minor_data], axis=1)\n",
    "agg_data.drop(['SUBJECT_L','minute_L'], axis=1, inplace=True)"
   ]
  },
  {
   "cell_type": "code",
   "execution_count": 47,
   "metadata": {},
   "outputs": [
    {
     "data": {
      "text/plain": [
       "0"
      ]
     },
     "execution_count": 47,
     "metadata": {},
     "output_type": "execute_result"
    }
   ],
   "source": [
    "agg_data['EMG_peaks'].isna().sum()"
   ]
  },
  {
   "cell_type": "markdown",
   "metadata": {},
   "source": [
    "#### Average Amplitude of Peaks"
   ]
  },
  {
   "cell_type": "code",
   "execution_count": 48,
   "metadata": {},
   "outputs": [],
   "source": [
    "sub_list=[]\n",
    "mini_list=[]\n",
    "peak_list=[]\n",
    "\n",
    "for sub in unique_subjects:\n",
    "    temp_new = pd.DataFrame()\n",
    "    temp_new = agg_data.loc[agg_data.SUBJECT==sub,]\n",
    "    temp_new = temp_new.reset_index()\n",
    "    temp_new.drop('index', axis=1, inplace=True)\n",
    "    \n",
    "    sub_list.extend(list(temp_new['SUBJECT']))\n",
    "    \n",
    "    mini=temp_new['minute'].unique().tolist()\n",
    "    for i in mini:\n",
    "        hemp_new=pd.DataFrame()\n",
    "        hemp_new = temp_new.loc[temp_new.minute==i,]\n",
    "        hemp_new.reset_index()\n",
    "        cb = np.array(hemp_new['EMG'])\n",
    "        indices = peakutils.indexes(cb, thres=-1.50000008, min_dist=3)\n",
    "        meaner=[] #List to Keep Mean\n",
    "        for i in indices:\n",
    "            meaner.append(cb[i])\n",
    "        hemp_new['EMG_Average_Amplitude']=np.mean(meaner)\n",
    "        \n",
    "        mini_list.extend(list(hemp_new['minute']))\n",
    "        peak_list.extend(list(hemp_new['EMG_Average_Amplitude'])) \n",
    "minor_data=pd.DataFrame(list(zip(sub_list, mini_list, peak_list)), columns=['SUBJECT_L','minute_L', 'EMG_Average_Amplitude'])\n",
    "agg_data=pd.concat([agg_data, minor_data], axis=1)\n",
    "agg_data.drop(['SUBJECT_L','minute_L'], axis=1, inplace=True)"
   ]
  },
  {
   "cell_type": "code",
   "execution_count": 49,
   "metadata": {},
   "outputs": [
    {
     "data": {
      "text/plain": [
       "0"
      ]
     },
     "execution_count": 49,
     "metadata": {},
     "output_type": "execute_result"
    }
   ],
   "source": [
    "agg_data['EMG_Average_Amplitude'].isna().sum()"
   ]
  },
  {
   "cell_type": "markdown",
   "metadata": {},
   "source": [
    "#### Peak Difference Mean"
   ]
  },
  {
   "cell_type": "code",
   "execution_count": 50,
   "metadata": {},
   "outputs": [
    {
     "name": "stdout",
     "output_type": "stream",
     "text": [
      "Wall time: 3.53 s\n"
     ]
    }
   ],
   "source": [
    "%%time\n",
    "sub_list=[]\n",
    "mini_list=[]\n",
    "peak_list=[]\n",
    "\n",
    "for sub in unique_subjects:\n",
    "    temp_new = pd.DataFrame()\n",
    "    temp_new = agg_data.loc[agg_data.SUBJECT==sub,]\n",
    "    temp_new = temp_new.reset_index()\n",
    "    temp_new.drop('index', axis=1, inplace=True)\n",
    "    \n",
    "    sub_list.extend(list(temp_new['SUBJECT']))\n",
    "    \n",
    "    mini=temp_new['minute'].unique().tolist()\n",
    "    for i in mini:\n",
    "        hemp_new=pd.DataFrame()\n",
    "        hemp_new = temp_new.loc[temp_new.minute==i,]\n",
    "        hemp_new.reset_index()\n",
    "        #hemp_new.drop('index', axis=1, inplace=True)\n",
    "        cb = np.array(hemp_new['EMG'])\n",
    "        indices = peakutils.indexes(cb, thres=-1.499996, min_dist=3)\n",
    "        \n",
    "        #Fetching Difference Between consecuitive elements\n",
    "        differ=[t - s for s, t in zip(indices, indices[1:])]\n",
    "        hemp_new['EMG_Differ_Mean']=np.mean(differ)\n",
    "        \n",
    "        mini_list.extend(list(hemp_new['minute']))\n",
    "        peak_list.extend(list(hemp_new['EMG_Differ_Mean'])) \n",
    "minor_data=pd.DataFrame(list(zip(sub_list, mini_list, peak_list)), columns=['SUBJECT_L','minute_L', 'EMG_Differ_Mean'])\n",
    "agg_data=pd.concat([agg_data, minor_data], axis=1)\n",
    "agg_data.drop(['SUBJECT_L','minute_L'], axis=1, inplace=True)"
   ]
  },
  {
   "cell_type": "code",
   "execution_count": 51,
   "metadata": {},
   "outputs": [
    {
     "data": {
      "text/plain": [
       "0"
      ]
     },
     "execution_count": 51,
     "metadata": {},
     "output_type": "execute_result"
    }
   ],
   "source": [
    "agg_data['EMG_Differ_Mean'].fillna(0, inplace=True)\n",
    "agg_data['EMG_Differ_Mean'].isna().sum()"
   ]
  },
  {
   "cell_type": "markdown",
   "metadata": {},
   "source": [
    "### 4. Respiration"
   ]
  },
  {
   "cell_type": "code",
   "execution_count": 52,
   "metadata": {},
   "outputs": [
    {
     "name": "stdout",
     "output_type": "stream",
     "text": [
      "The draw time for this plot will be slow for all clients.\n"
     ]
    },
    {
     "data": {
      "text/html": [
       "<iframe id=\"igraph\" scrolling=\"no\" style=\"border:none;\" seamless=\"seamless\" src=\"https://plot.ly/~c.sabyasachi99/8.embed\" height=\"525px\" width=\"100%\"></iframe>"
      ],
      "text/plain": [
       "<plotly.tools.PlotlyDisplay object>"
      ]
     },
     "execution_count": 52,
     "metadata": {},
     "output_type": "execute_result"
    }
   ],
   "source": [
    "trace = go.Scatter(\n",
    "    x = [j for j in range(len(agg_data['RESP']))],\n",
    "    y = agg_data['RESP'],\n",
    "    mode = 'lines'\n",
    ")\n",
    "\n",
    "data = [trace]\n",
    "py.iplot(data, filename='milk-production-plot')"
   ]
  },
  {
   "cell_type": "code",
   "execution_count": 53,
   "metadata": {},
   "outputs": [
    {
     "name": "stdout",
     "output_type": "stream",
     "text": [
      "-49.987202463671565\n"
     ]
    },
    {
     "data": {
      "text/html": [
       "<iframe id=\"igraph\" scrolling=\"no\" style=\"border:none;\" seamless=\"seamless\" src=\"https://plot.ly/~c.sabyasachi99/10.embed\" height=\"525px\" width=\"100%\"></iframe>"
      ],
      "text/plain": [
       "<plotly.tools.PlotlyDisplay object>"
      ]
     },
     "execution_count": 53,
     "metadata": {},
     "output_type": "execute_result"
    }
   ],
   "source": [
    "#####################################\n",
    "time_series=agg_data['RESP'][600:1200]\n",
    "#####################################\n",
    "cb = np.array(time_series)\n",
    "\n",
    "indices = peakutils.indexes(cb, thres=-49.997202463671565, min_dist=3)\n",
    "print(max(cb))\n",
    "trace = go.Scatter(\n",
    "    x=[j for j in range(len(time_series))],\n",
    "    y=time_series,\n",
    "    mode='lines',\n",
    "    name='Original Plot'\n",
    ")\n",
    "\n",
    "trace2 = go.Scatter(\n",
    "    x=indices,\n",
    "    y=[np.array(time_series)[j] for j in indices],\n",
    "    mode='markers',\n",
    "    marker=dict(\n",
    "        size=8,\n",
    "        color='rgb(255,0,0)',\n",
    "        symbol='cross'\n",
    "    ),\n",
    "    name='Detected Peaks'\n",
    ")\n",
    "\n",
    "data = [trace, trace2]\n",
    "py.iplot(data, filename='milk-production-plot-with-peaks')"
   ]
  },
  {
   "cell_type": "markdown",
   "metadata": {},
   "source": [
    "#### Number of Breath Cycles a Minute"
   ]
  },
  {
   "cell_type": "code",
   "execution_count": 54,
   "metadata": {},
   "outputs": [
    {
     "name": "stdout",
     "output_type": "stream",
     "text": [
      "Wall time: 3.47 s\n"
     ]
    }
   ],
   "source": [
    "%%time\n",
    "sub_list=[]\n",
    "mini_list=[]\n",
    "cycles_list=[]\n",
    "\n",
    "for sub in unique_subjects:\n",
    "    temp_new = pd.DataFrame()\n",
    "    temp_new = agg_data.loc[agg_data.SUBJECT==sub,]\n",
    "    temp_new = temp_new.reset_index()\n",
    "    temp_new.drop('index', axis=1, inplace=True)\n",
    "    \n",
    "    sub_list.extend(list(temp_new['SUBJECT']))\n",
    "    \n",
    "    mini=temp_new['minute'].unique().tolist()\n",
    "    for i in mini:\n",
    "        hemp_new=pd.DataFrame()\n",
    "        hemp_new = temp_new.loc[temp_new.minute==i,]\n",
    "        hemp_new.reset_index()\n",
    "        cb = np.array(hemp_new['RESP'])\n",
    "        indices = peakutils.indexes(cb, thres=-49.997202463671565, min_dist=3)\n",
    "        hemp_new['RESP_peak']=len(indices)\n",
    "        \n",
    "        mini_list.extend(list(hemp_new['minute']))\n",
    "        cycles_list.extend(list(hemp_new['RESP_peak'])) \n",
    "minor_data=pd.DataFrame(list(zip(sub_list, mini_list, cycles_list)), columns=['SUBJECT_L','minute_L', 'RESP_peak'])\n",
    "agg_data=pd.concat([agg_data, minor_data], axis=1)\n",
    "agg_data.drop(['SUBJECT_L','minute_L'], axis=1, inplace=True)"
   ]
  },
  {
   "cell_type": "code",
   "execution_count": 55,
   "metadata": {},
   "outputs": [
    {
     "data": {
      "text/plain": [
       "0"
      ]
     },
     "execution_count": 55,
     "metadata": {},
     "output_type": "execute_result"
    }
   ],
   "source": [
    "agg_data['RESP_peak'].isna().sum()"
   ]
  },
  {
   "cell_type": "markdown",
   "metadata": {},
   "source": [
    "#### Average Amplitude of Respiration Peaks"
   ]
  },
  {
   "cell_type": "code",
   "execution_count": 56,
   "metadata": {},
   "outputs": [],
   "source": [
    "sub_list=[]\n",
    "mini_list=[]\n",
    "cycles_list=[]\n",
    "\n",
    "for sub in unique_subjects:\n",
    "    temp_new = pd.DataFrame()\n",
    "    temp_new = agg_data.loc[agg_data.SUBJECT==sub,]\n",
    "    temp_new = temp_new.reset_index()\n",
    "    temp_new.drop('index', axis=1, inplace=True)\n",
    "    \n",
    "    sub_list.extend(list(temp_new['SUBJECT']))\n",
    "    \n",
    "    mini=temp_new['minute'].unique().tolist()\n",
    "    for i in mini:\n",
    "        hemp_new=pd.DataFrame()\n",
    "        hemp_new = temp_new.loc[temp_new.minute==i,]\n",
    "        hemp_new.reset_index()\n",
    "        cb = np.array(hemp_new['RESP'])\n",
    "        indices = peakutils.indexes(cb, thres=0.65, min_dist=3)\n",
    "        meaner=[] #List to Keep Mean\n",
    "        for i in indices:\n",
    "            meaner.append(cb[i])\n",
    "        hemp_new['RESP_Average_Amplitude']=np.mean(meaner)\n",
    "        \n",
    "        mini_list.extend(list(hemp_new['minute']))\n",
    "        cycles_list.extend(list(hemp_new['RESP_Average_Amplitude'])) \n",
    "minor_data=pd.DataFrame(list(zip(sub_list, mini_list, cycles_list)), columns=['SUBJECT_L','minute_L', 'RESP_Average_Amplitude'])\n",
    "agg_data=pd.concat([agg_data, minor_data], axis=1)\n",
    "agg_data.drop(['SUBJECT_L','minute_L'], axis=1, inplace=True)"
   ]
  },
  {
   "cell_type": "code",
   "execution_count": 57,
   "metadata": {},
   "outputs": [
    {
     "data": {
      "text/plain": [
       "0"
      ]
     },
     "execution_count": 57,
     "metadata": {},
     "output_type": "execute_result"
    }
   ],
   "source": [
    "agg_data['RESP_Average_Amplitude'].fillna(0, inplace=True)\n",
    "agg_data['RESP_Average_Amplitude'].isna().sum()"
   ]
  },
  {
   "cell_type": "markdown",
   "metadata": {},
   "source": [
    "#### Peak Difference Mean"
   ]
  },
  {
   "cell_type": "code",
   "execution_count": 58,
   "metadata": {},
   "outputs": [
    {
     "name": "stdout",
     "output_type": "stream",
     "text": [
      "Wall time: 3.45 s\n"
     ]
    }
   ],
   "source": [
    "%%time\n",
    "sub_list=[]\n",
    "mini_list=[]\n",
    "peak_list=[]\n",
    "\n",
    "for sub in unique_subjects:\n",
    "    temp_new = pd.DataFrame()\n",
    "    temp_new = agg_data.loc[agg_data.SUBJECT==sub,]\n",
    "    temp_new = temp_new.reset_index()\n",
    "    temp_new.drop('index', axis=1, inplace=True)\n",
    "    \n",
    "    sub_list.extend(list(temp_new['SUBJECT']))\n",
    "    \n",
    "    mini=temp_new['minute'].unique().tolist()\n",
    "    for i in mini:\n",
    "        hemp_new=pd.DataFrame()\n",
    "        hemp_new = temp_new.loc[temp_new.minute==i,]\n",
    "        hemp_new.reset_index()\n",
    "        #hemp_new.drop('index', axis=1, inplace=True)\n",
    "        cb = np.array(hemp_new['RESP'])\n",
    "        indices = peakutils.indexes(cb, thres=-1.499996, min_dist=3)\n",
    "        \n",
    "        #Fetching Difference Between consecuitive elements\n",
    "        differ=[t - s for s, t in zip(indices, indices[1:])]\n",
    "        hemp_new['RESP_Differ_Mean']=np.mean(differ)\n",
    "        \n",
    "        mini_list.extend(list(hemp_new['minute']))\n",
    "        peak_list.extend(list(hemp_new['RESP_Differ_Mean'])) \n",
    "minor_data=pd.DataFrame(list(zip(sub_list, mini_list, peak_list)), columns=['SUBJECT_L','minute_L', 'RESP_Differ_Mean'])\n",
    "agg_data=pd.concat([agg_data, minor_data], axis=1)\n",
    "agg_data.drop(['SUBJECT_L','minute_L'], axis=1, inplace=True)"
   ]
  },
  {
   "cell_type": "code",
   "execution_count": 59,
   "metadata": {},
   "outputs": [
    {
     "data": {
      "text/plain": [
       "0"
      ]
     },
     "execution_count": 59,
     "metadata": {},
     "output_type": "execute_result"
    }
   ],
   "source": [
    "agg_data['RESP_Differ_Mean'].fillna(0, inplace=True)\n",
    "agg_data['RESP_Differ_Mean'].isna().sum()"
   ]
  },
  {
   "cell_type": "markdown",
   "metadata": {},
   "source": [
    "### 5. BVP"
   ]
  },
  {
   "cell_type": "code",
   "execution_count": 60,
   "metadata": {},
   "outputs": [
    {
     "name": "stdout",
     "output_type": "stream",
     "text": [
      "The draw time for this plot will be slow for all clients.\n"
     ]
    },
    {
     "data": {
      "text/html": [
       "<iframe id=\"igraph\" scrolling=\"no\" style=\"border:none;\" seamless=\"seamless\" src=\"https://plot.ly/~c.sabyasachi99/8.embed\" height=\"525px\" width=\"100%\"></iframe>"
      ],
      "text/plain": [
       "<plotly.tools.PlotlyDisplay object>"
      ]
     },
     "execution_count": 60,
     "metadata": {},
     "output_type": "execute_result"
    }
   ],
   "source": [
    "trace = go.Scatter(\n",
    "    x = [j for j in range(len(agg_data['BVP']))],\n",
    "    y = agg_data['BVP'],\n",
    "    mode = 'lines'\n",
    ")\n",
    "\n",
    "data = [trace]\n",
    "py.iplot(data, filename='milk-production-plot')"
   ]
  },
  {
   "cell_type": "code",
   "execution_count": 61,
   "metadata": {},
   "outputs": [
    {
     "name": "stdout",
     "output_type": "stream",
     "text": [
      "245.5101791565476\n"
     ]
    },
    {
     "data": {
      "text/html": [
       "<iframe id=\"igraph\" scrolling=\"no\" style=\"border:none;\" seamless=\"seamless\" src=\"https://plot.ly/~c.sabyasachi99/10.embed\" height=\"525px\" width=\"100%\"></iframe>"
      ],
      "text/plain": [
       "<plotly.tools.PlotlyDisplay object>"
      ]
     },
     "execution_count": 61,
     "metadata": {},
     "output_type": "execute_result"
    }
   ],
   "source": [
    "#####################################\n",
    "time_series=agg_data['BVP'][1200:1800]\n",
    "#####################################\n",
    "cb = np.array(time_series)\n",
    "\n",
    "indices = peakutils.indexes(cb, thres=0.5, min_dist=3)\n",
    "print(max(cb))\n",
    "trace = go.Scatter(\n",
    "    x=[j for j in range(len(time_series))],\n",
    "    y=time_series,\n",
    "    mode='lines',\n",
    "    name='Original Plot'\n",
    ")\n",
    "\n",
    "trace2 = go.Scatter(\n",
    "    x=indices,\n",
    "    y=[np.array(time_series)[j] for j in indices],\n",
    "    mode='markers',\n",
    "    marker=dict(\n",
    "        size=8,\n",
    "        color='rgb(255,0,0)',\n",
    "        symbol='cross'\n",
    "    ),\n",
    "    name='Detected Peaks'\n",
    ")\n",
    "\n",
    "data = [trace, trace2]\n",
    "py.iplot(data, filename='milk-production-plot-with-peaks')"
   ]
  },
  {
   "cell_type": "markdown",
   "metadata": {},
   "source": [
    "#### Number of Local Maxima Per Minute"
   ]
  },
  {
   "cell_type": "code",
   "execution_count": 62,
   "metadata": {},
   "outputs": [
    {
     "name": "stdout",
     "output_type": "stream",
     "text": [
      "Wall time: 3.63 s\n"
     ]
    }
   ],
   "source": [
    "%%time\n",
    "sub_list=[]\n",
    "mini_list=[]\n",
    "maxi_list=[]\n",
    "\n",
    "for sub in unique_subjects:\n",
    "    temp_new = pd.DataFrame()\n",
    "    temp_new = agg_data.loc[agg_data.SUBJECT==sub,]\n",
    "    temp_new = temp_new.reset_index()\n",
    "    temp_new.drop('index', axis=1, inplace=True)\n",
    "    \n",
    "    sub_list.extend(list(temp_new['SUBJECT']))\n",
    "    \n",
    "    mini=temp_new['minute'].unique().tolist()\n",
    "    for i in mini:\n",
    "        hemp_new=pd.DataFrame()\n",
    "        hemp_new = temp_new.loc[temp_new.minute==i,]\n",
    "        hemp_new.reset_index()\n",
    "        cb = np.array(hemp_new['BVP'])\n",
    "        indices = peakutils.indexes(cb, thres=0.5, min_dist=3)\n",
    "        hemp_new['BVP_peak']=len(indices)\n",
    "        \n",
    "        mini_list.extend(list(hemp_new['minute']))\n",
    "        maxi_list.extend(list(hemp_new['BVP_peak'])) \n",
    "minor_data=pd.DataFrame(list(zip(sub_list, mini_list, maxi_list)), columns=['SUBJECT_L','minute_L', 'BVP_peak'])\n",
    "agg_data=pd.concat([agg_data, minor_data], axis=1)\n",
    "agg_data.drop(['SUBJECT_L','minute_L'], axis=1, inplace=True)"
   ]
  },
  {
   "cell_type": "code",
   "execution_count": 63,
   "metadata": {},
   "outputs": [
    {
     "data": {
      "text/plain": [
       "0"
      ]
     },
     "execution_count": 63,
     "metadata": {},
     "output_type": "execute_result"
    }
   ],
   "source": [
    "agg_data['BVP_peak'].fillna(0, inplace=True)\n",
    "agg_data['BVP_peak'].isna().sum()"
   ]
  },
  {
   "cell_type": "markdown",
   "metadata": {},
   "source": [
    "#### Average Amplitude of BVP Local Maxima"
   ]
  },
  {
   "cell_type": "code",
   "execution_count": 64,
   "metadata": {},
   "outputs": [],
   "source": [
    "sub_list=[]\n",
    "mini_list=[]\n",
    "maxi_list=[]\n",
    "\n",
    "for sub in unique_subjects:\n",
    "    temp_new = pd.DataFrame()\n",
    "    temp_new = agg_data.loc[agg_data.SUBJECT==sub,]\n",
    "    temp_new = temp_new.reset_index()\n",
    "    temp_new.drop('index', axis=1, inplace=True)\n",
    "    \n",
    "    sub_list.extend(list(temp_new['SUBJECT']))\n",
    "    \n",
    "    mini=temp_new['minute'].unique().tolist()\n",
    "    for i in mini:\n",
    "        hemp_new=pd.DataFrame()\n",
    "        hemp_new = temp_new.loc[temp_new.minute==i,]\n",
    "        hemp_new.reset_index()\n",
    "        cb = np.array(hemp_new['BVP'])\n",
    "        indices = peakutils.indexes(cb, thres=0.5, min_dist=3)\n",
    "        meaner=[] #List to Keep Mean\n",
    "        for i in indices:\n",
    "            meaner.append(cb[i])\n",
    "        hemp_new['BVP_Average_Amplitude']=np.mean(meaner)\n",
    "        \n",
    "        mini_list.extend(list(hemp_new['minute']))\n",
    "        maxi_list.extend(list(hemp_new['BVP_Average_Amplitude'])) \n",
    "minor_data=pd.DataFrame(list(zip(sub_list, mini_list, maxi_list)), columns=['SUBJECT_L','minute_L', 'BVP_Average_Amplitude'])\n",
    "agg_data=pd.concat([agg_data, minor_data], axis=1)\n",
    "agg_data.drop(['SUBJECT_L','minute_L'], axis=1, inplace=True)"
   ]
  },
  {
   "cell_type": "code",
   "execution_count": 65,
   "metadata": {},
   "outputs": [
    {
     "data": {
      "text/plain": [
       "0"
      ]
     },
     "execution_count": 65,
     "metadata": {},
     "output_type": "execute_result"
    }
   ],
   "source": [
    "agg_data['BVP_Average_Amplitude'].fillna(0, inplace=True)\n",
    "agg_data['BVP_Average_Amplitude'].isna().sum()"
   ]
  },
  {
   "cell_type": "markdown",
   "metadata": {},
   "source": [
    "#### Local Maxima Conse Difference"
   ]
  },
  {
   "cell_type": "code",
   "execution_count": 66,
   "metadata": {},
   "outputs": [
    {
     "name": "stdout",
     "output_type": "stream",
     "text": [
      "Wall time: 3.56 s\n"
     ]
    }
   ],
   "source": [
    "%%time\n",
    "sub_list=[]\n",
    "mini_list=[]\n",
    "maxi_list=[]\n",
    "\n",
    "for sub in unique_subjects:\n",
    "    temp_new = pd.DataFrame()\n",
    "    temp_new = agg_data.loc[agg_data.SUBJECT==sub,]\n",
    "    temp_new = temp_new.reset_index()\n",
    "    temp_new.drop('index', axis=1, inplace=True)\n",
    "    \n",
    "    sub_list.extend(list(temp_new['SUBJECT']))\n",
    "    \n",
    "    mini=temp_new['minute'].unique().tolist()\n",
    "    for i in mini:\n",
    "        hemp_new=pd.DataFrame()\n",
    "        hemp_new = temp_new.loc[temp_new.minute==i,]\n",
    "        hemp_new.reset_index()\n",
    "        #hemp_new.drop('index', axis=1, inplace=True)\n",
    "        cb = np.array(hemp_new['BVP'])\n",
    "        indices = peakutils.indexes(cb, thres=0.5, min_dist=3)\n",
    "        \n",
    "        #Fetching Difference Between consecuitive elements\n",
    "        differ=[t - s for s, t in zip(indices, indices[1:])]\n",
    "        hemp_new['BVP_Differ_Mean']=np.mean(differ)\n",
    "        \n",
    "        mini_list.extend(list(hemp_new['minute']))\n",
    "        maxi_list.extend(list(hemp_new['BVP_Differ_Mean'])) \n",
    "minor_data=pd.DataFrame(list(zip(sub_list, mini_list, maxi_list)), columns=['SUBJECT_L','minute_L', 'BVP_Differ_Mean'])\n",
    "agg_data=pd.concat([agg_data, minor_data], axis=1)\n",
    "agg_data.drop(['SUBJECT_L','minute_L'], axis=1, inplace=True)"
   ]
  },
  {
   "cell_type": "code",
   "execution_count": 67,
   "metadata": {},
   "outputs": [
    {
     "data": {
      "text/plain": [
       "0"
      ]
     },
     "execution_count": 67,
     "metadata": {},
     "output_type": "execute_result"
    }
   ],
   "source": [
    "agg_data['BVP_Differ_Mean'].fillna(0, inplace=True)\n",
    "agg_data['BVP_Differ_Mean'].isna().sum()"
   ]
  },
  {
   "cell_type": "code",
   "execution_count": 68,
   "metadata": {},
   "outputs": [
    {
     "data": {
      "text/plain": [
       "Index(['GROUP_FREQ', 'BVP', 'SUBJECT', 'TEMP', 'Wrist_ACC_X', 'Wrist_ACC_Y',\n",
       "       'Wrist_ACC_Z', 'Label', 'RESP', 'EMG', 'ECG', 'Sample', 'Mean_ACC_X',\n",
       "       'Mean_ACC_Y', 'Mean_ACC_Z', 'SD_ACC_X', 'SD_ACC_Y', 'SD_ACC_Z',\n",
       "       'X_Y_CORR', 'Y_Z_CORR', 'X_Z_CORR', 'KURT_X', 'KURT_Y', 'KURT_Z',\n",
       "       'FFT_X', 'FFT_Y', 'FFT_Z', 'CREST_FACTOR_X', 'CREST_FACTOR_Y',\n",
       "       'CREST_FACTOR_Z', 'second', 'minute', 'ECG_Peaks',\n",
       "       'ECG_Average_Amplitude', 'ECG_Differ_Mean', 'ECG_Resting', 'Mean_ECG',\n",
       "       'SD_ECG', 'ECG_FFT', 'EMG_peaks', 'EMG_Average_Amplitude',\n",
       "       'EMG_Differ_Mean', 'RESP_peak', 'RESP_Average_Amplitude',\n",
       "       'RESP_Differ_Mean', 'BVP_peak', 'BVP_Average_Amplitude',\n",
       "       'BVP_Differ_Mean'],\n",
       "      dtype='object')"
      ]
     },
     "execution_count": 68,
     "metadata": {},
     "output_type": "execute_result"
    }
   ],
   "source": [
    "agg_data.columns"
   ]
  },
  {
   "cell_type": "code",
   "execution_count": 69,
   "metadata": {},
   "outputs": [],
   "source": [
    "features=['ECG_Peaks','ECG_Average_Amplitude', 'ECG_Differ_Mean', 'ECG_Resting','EMG_peaks', 'EMG_Average_Amplitude',\n",
    "          'EMG_Differ_Mean', 'RESP_peak', 'RESP_Average_Amplitude','RESP_Differ_Mean','TEMP', \n",
    "          'BVP_peak', 'BVP_Average_Amplitude','BVP_Differ_Mean','Mean_ACC_X','Mean_ACC_Y', 'Mean_ACC_Z', 'SD_ACC_X', \n",
    "          'SD_ACC_Y', 'SD_ACC_Z','X_Y_CORR', 'Y_Z_CORR', 'X_Z_CORR', 'KURT_X', 'KURT_Y', 'KURT_Z', 'CREST_FACTOR_X', 'CREST_FACTOR_Y','CREST_FACTOR_Z']\n",
    "labels=['Label']"
   ]
  },
  {
   "cell_type": "code",
   "execution_count": 70,
   "metadata": {},
   "outputs": [],
   "source": [
    "feat=agg_data[features]\n",
    "labe=agg_data[labels]"
   ]
  },
  {
   "cell_type": "markdown",
   "metadata": {},
   "source": [
    "#### Scaling the Test Data and the Training Data"
   ]
  },
  {
   "cell_type": "code",
   "execution_count": 71,
   "metadata": {},
   "outputs": [],
   "source": [
    "#One Hot Encode our Labels\n",
    "from sklearn.preprocessing import LabelBinarizer\n",
    "encoder = LabelBinarizer()\n",
    "labe = encoder.fit_transform(labe)"
   ]
  },
  {
   "cell_type": "code",
   "execution_count": 72,
   "metadata": {},
   "outputs": [],
   "source": [
    "from sklearn.model_selection import train_test_split\n",
    "train_features, test_features, train_labels, test_labels = train_test_split(feat, labe, test_size = 0.3, random_state =9, stratify=labe)"
   ]
  },
  {
   "cell_type": "code",
   "execution_count": 73,
   "metadata": {},
   "outputs": [],
   "source": [
    "from sklearn.preprocessing import StandardScaler  \n",
    "scaler = StandardScaler()\n",
    "scaler.fit(train_features)  \n",
    "train_features = scaler.transform(train_features)  \n",
    "test_features = scaler.transform(test_features)  "
   ]
  },
  {
   "cell_type": "markdown",
   "metadata": {},
   "source": [
    "## Convolutional Neural Network"
   ]
  },
  {
   "cell_type": "code",
   "execution_count": 74,
   "metadata": {},
   "outputs": [],
   "source": [
    "train_features=train_features.reshape(train_features.shape[0], train_features.shape[1], 1)\n",
    "test_features=test_features.reshape(test_features.shape[0], test_features.shape[1], 1)"
   ]
  },
  {
   "cell_type": "code",
   "execution_count": 75,
   "metadata": {},
   "outputs": [
    {
     "name": "stdout",
     "output_type": "stream",
     "text": [
      "(401436, 29, 1)\n",
      "(172044, 29, 1)\n"
     ]
    }
   ],
   "source": [
    "print(train_features.shape)\n",
    "print(test_features.shape)"
   ]
  },
  {
   "cell_type": "code",
   "execution_count": 76,
   "metadata": {},
   "outputs": [],
   "source": [
    "import livelossplot\n",
    "from livelossplot import PlotLossesKeras\n",
    "plot_losses = livelossplot.PlotLossesKeras()"
   ]
  },
  {
   "cell_type": "code",
   "execution_count": 77,
   "metadata": {},
   "outputs": [],
   "source": [
    "def createModel():\n",
    "    model = Sequential()\n",
    "    model.add(Conv1D(128, 10, input_shape=(29,1,), activation='relu'))\n",
    "    model.add(Conv1D(64, 2, activation='relu'))\n",
    "    model.add(Flatten())\n",
    "    model.add(Dropout(0.5))\n",
    "    model.add(Dense(64, activation='relu'))\n",
    "    model.add(Dropout(0.5))\n",
    "    model.add(Dense(32, activation='relu'))\n",
    "    model.add(Dense(5, activation='softmax'))\n",
    "    \n",
    "    #stochastic gradient descent\n",
    "    sgd = SGD(lr=0.001, decay=1e-6, momentum=0.9, nesterov=True)\n",
    "    model.compile(loss='categorical_crossentropy', optimizer=sgd, metrics=['accuracy'])\n",
    "    return model"
   ]
  },
  {
   "cell_type": "code",
   "execution_count": 80,
   "metadata": {},
   "outputs": [
    {
     "data": {
      "image/png": "[encoded data removed]",
      "text/plain": [
       "<Figure size 864x576 with 2 Axes>"
      ]
     },
     "metadata": {
      "needs_background": "light"
     },
     "output_type": "display_data"
    },
    {
     "name": "stdout",
     "output_type": "stream",
     "text": [
      "Log-loss (cost function):\n",
      "training   (min:    0.080, max:    0.565, cur:    0.080)\n",
      "validation (min:    0.052, max:    0.206, cur:    0.052)\n",
      "\n",
      "Accuracy:\n",
      "training   (min:    0.776, max:    0.967, cur:    0.967)\n",
      "validation (min:    0.934, max:    0.975, cur:    0.975)\n"
     ]
    }
   ],
   "source": [
    "model = createModel()\n",
    "history=model.fit(train_features,train_labels, epochs=20, batch_size=10,validation_data=(train_features,train_labels),callbacks=[plot_losses])"
   ]
  },
  {
   "cell_type": "code",
   "execution_count": 81,
   "metadata": {},
   "outputs": [
    {
     "name": "stdout",
     "output_type": "stream",
     "text": [
      "172044/172044 [==============================] - 7s 42us/step\n",
      "\n",
      "acc: 97.53%\n"
     ]
    }
   ],
   "source": [
    "scores = model.evaluate(test_features, test_labels)\n",
    "print(\"\\n%s: %.2f%%\" % (model.metrics_names[1], scores[1]*100))"
   ]
  },
  {
   "cell_type": "code",
   "execution_count": 82,
   "metadata": {},
   "outputs": [
    {
     "name": "stdout",
     "output_type": "stream",
     "text": [
      "0.9753144544418869\n",
      "[[80289   288   212   541  1107]\n",
      " [  599 34546     0     0     0]\n",
      " [  662     0 18973     0     0]\n",
      " [  235     0     0 10892     0]\n",
      " [  603     0     0     0 23097]]\n",
      "              precision    recall  f1-score   support\n",
      "\n",
      "           0       0.97      0.97      0.97     82437\n",
      "           1       0.99      0.98      0.99     35145\n",
      "           2       0.99      0.97      0.98     19635\n",
      "           3       0.95      0.98      0.97     11127\n",
      "           4       0.95      0.97      0.96     23700\n",
      "\n",
      "   micro avg       0.98      0.98      0.98    172044\n",
      "   macro avg       0.97      0.98      0.97    172044\n",
      "weighted avg       0.98      0.98      0.98    172044\n",
      "\n"
     ]
    }
   ],
   "source": [
    "predictions=model.predict_classes(test_features)\n",
    "test_labels=encoder.inverse_transform(test_labels)\n",
    "print(accuracy_score(test_labels, predictions))\n",
    "print(confusion_matrix(test_labels, predictions))\n",
    "print(classification_report(test_labels, predictions))"
   ]
  },
  {
   "cell_type": "code",
   "execution_count": null,
   "metadata": {},
   "outputs": [],
   "source": []
  }
 ],
 "metadata": {
  "kernelspec": {
   "display_name": "Python 3",
   "language": "python",
   "name": "python3"
  },
  "language_info": {
   "codemirror_mode": {
    "name": "ipython",
    "version": 3
   },
   "file_extension": ".py",
   "mimetype": "text/x-python",
   "name": "python",
   "nbconvert_exporter": "python",
   "pygments_lexer": "ipython3",
   "version": "3.5.2"
  }
 },
 "nbformat": 4,
 "nbformat_minor": 2
}
